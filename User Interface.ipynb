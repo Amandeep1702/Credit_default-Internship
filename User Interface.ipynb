{
 "cells": [
  {
   "cell_type": "code",
   "execution_count": 1,
   "id": "f8ee7555",
   "metadata": {},
   "outputs": [],
   "source": [
    "import gradio\n",
    "import numpy as np\n",
    "import pandas as pd\n",
    "import pickle\n",
    "import logging"
   ]
  },
  {
   "cell_type": "code",
   "execution_count": 2,
   "id": "e7958ecc",
   "metadata": {},
   "outputs": [],
   "source": [
    "data=pd.read_csv(r\"C:\\Users\\AMANDEEP\\Downloads\\Internship\\traindata.csv\")"
   ]
  },
  {
   "cell_type": "code",
   "execution_count": 3,
   "id": "05529017",
   "metadata": {
    "scrolled": true
   },
   "outputs": [
    {
     "name": "stdout",
     "output_type": "stream",
     "text": [
      "Index(['Unnamed: 0', 'Limit', 'Sex', 'Education', 'Marriage', 'Age',\n",
      "       'Pay_sept', 'Pay_aug', 'Pay_july', 'Pay_june', 'Pay_may', 'Pay_april',\n",
      "       'Bill_sept', 'Bill_aug', 'Bill_july', 'Bill_june', 'Bill_may',\n",
      "       'Bill_april', 'Amt_sept', 'Amt_aug', 'Amt_july', 'Amt_june', 'Amt_may',\n",
      "       'Amt_april'],\n",
      "      dtype='object')\n"
     ]
    }
   ],
   "source": [
    "data.head()\n",
    "print(data.columns)"
   ]
  },
  {
   "cell_type": "code",
   "execution_count": 4,
   "id": "7146788c",
   "metadata": {},
   "outputs": [],
   "source": [
    "logging.basicConfig(filename='UIdeploymentlog.log', level=logging.INFO,\n",
    "                    format='%(levelname)s:%(asctime)s:%(message)s')\n",
    "logger = logging.getLogger(__name__)"
   ]
  },
  {
   "cell_type": "code",
   "execution_count": 5,
   "id": "4f13864f",
   "metadata": {},
   "outputs": [],
   "source": [
    "logger.info('Loading model...')\n",
    "model=pickle.load(open('randomforestclassifiermodel.pkl', 'rb'))"
   ]
  },
  {
   "cell_type": "code",
   "execution_count": 6,
   "id": "62f40b3c",
   "metadata": {},
   "outputs": [],
   "source": [
    "logger.info('defining function for input data...')\n",
    "\n",
    "def default(Limit,Sex,Education,Marriage,\n",
    "            Age,Pay_sept,Pay_aug,\n",
    "            Pay_july,Pay_june,Pay_may,Pay_april,Bill_sept,Bill_aug,Bill_july,Bill_june,Bill_may,\n",
    "       Bill_april,Amt_sept,Amt_aug,Amt_july,Amt_june,Amt_may,\n",
    "       Amt_april):\n",
    "    \n",
    "    x = np.array([Limit,Sex,Education,Marriage,\n",
    "            Age,Pay_sept,Pay_aug,\n",
    "            Pay_july,Pay_june,Pay_may,Pay_april,Bill_sept,Bill_aug,Bill_july,Bill_june,Bill_may,\n",
    "       Bill_april,Amt_sept,Amt_aug,Amt_july,Amt_june,Amt_may,\n",
    "       Amt_april])\n",
    "\n",
    "    prediction = model.predict_proba(x.reshape(1, -1))[:, 1]\n",
    "    return prediction"
   ]
  },
  {
   "cell_type": "code",
   "execution_count": 7,
   "id": "87fd140b",
   "metadata": {
    "scrolled": true
   },
   "outputs": [
    {
     "name": "stderr",
     "output_type": "stream",
     "text": [
      "C:\\Users\\AMANDEEP\\anaconda3\\envs\\credit_default\\lib\\site-packages\\gradio\\outputs.py:22: UserWarning: Usage of gradio.outputs is deprecated, and will not be supported in the future, please import your components from gradio.components\n",
      "  \"Usage of gradio.outputs is deprecated, and will not be supported in the future, please import your components from gradio.components\",\n"
     ]
    }
   ],
   "source": [
    "logger.info('defining output format...')\n",
    "\n",
    "outputs = gradio.outputs.Textbox()\n",
    "\n",
    "app = gradio.Interface(fn=default, \n",
    "                   inputs=['number','number','number','number',\n",
    "                           'number','number','number','number',\n",
    "                           'number','number',\n",
    "                           'number','number','number','number',\n",
    "                           'number','number',\n",
    "                           'number','number','number','number',\n",
    "                           'number','number','number'], \n",
    "                   outputs=outputs,title=\n",
    "                       \"This is a credit default prediction model\",\n",
    "                      description=\"LIMIT: Amount of given credit in NT dollars (includes individual and family/supplementary credit \\n \\n SEX: Gender (1=male, 2=female) \\n \\n EDUCATION: (1=graduate school, 2=university, 3=high school, 4=others) \\n \\n MARRIAGE: Marital status (1=married, 2=single, 3=others) \\n \\n AGE: Age in years \\n \\n Scale for PAY_SEPT to PAY_APRIL : (-2 = No consumption, -1 = paid in full, 0 = use of revolving credit (paid minimum only), 1 = payment delay for one month, ... 8 = payment delay for eight months, 9 = payment delay for nine months and above) \\n \\n Pay_sept: Repayment status of september month and so on \\n \\n Bill_sept: Amount of bill statement of September month and so on \\n \\n Amt_sept: Amount of previous payment in same month and so on\")"
   ]
  },
  {
   "cell_type": "code",
   "execution_count": null,
   "id": "657f362d",
   "metadata": {},
   "outputs": [
    {
     "name": "stdout",
     "output_type": "stream",
     "text": [
      "Running on local URL:  http://127.0.0.1:7860\n"
     ]
    }
   ],
   "source": [
    "logger.info('Creating URL...')\n",
    "\n",
    "app.launch(share=True)\n",
    "logger.info('App launched!')"
   ]
  },
  {
   "cell_type": "code",
   "execution_count": null,
   "id": "6735aaf5",
   "metadata": {},
   "outputs": [],
   "source": []
  }
 ],
 "metadata": {
  "kernelspec": {
   "display_name": "Python 3 (ipykernel)",
   "language": "python",
   "name": "python3"
  },
  "language_info": {
   "codemirror_mode": {
    "name": "ipython",
    "version": 3
   },
   "file_extension": ".py",
   "mimetype": "text/x-python",
   "name": "python",
   "nbconvert_exporter": "python",
   "pygments_lexer": "ipython3",
   "version": "3.7.15"
  }
 },
 "nbformat": 4,
 "nbformat_minor": 5
}
