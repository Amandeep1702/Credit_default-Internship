{
 "cells": [
  {
   "cell_type": "markdown",
   "id": "0b7ca912",
   "metadata": {},
   "source": [
    "## Importing Libraries"
   ]
  },
  {
   "cell_type": "code",
   "execution_count": 1,
   "id": "7f90be4e",
   "metadata": {},
   "outputs": [],
   "source": [
    "import numpy as np\n",
    "import matplotlib.pyplot as plt\n",
    "import seaborn as sns\n",
    "import pandas as pd\n",
    "import warnings\n",
    "import pickle\n",
    "import logging\n",
    "warnings.filterwarnings('ignore')"
   ]
  },
  {
   "cell_type": "markdown",
   "id": "06780e67",
   "metadata": {},
   "source": [
    "## Defining Log File"
   ]
  },
  {
   "cell_type": "code",
   "execution_count": 2,
   "id": "d2f9163a",
   "metadata": {},
   "outputs": [],
   "source": [
    "logging.basicConfig(filename='traininglog.log', level=logging.INFO,\n",
    "                    format='%(levelname)s:%(asctime)s:%(message)s')\n",
    "logger = logging.getLogger(__name__)"
   ]
  },
  {
   "cell_type": "markdown",
   "id": "8722b160",
   "metadata": {},
   "source": [
    "## Loading and Analyzing the Dataset"
   ]
  },
  {
   "cell_type": "code",
   "execution_count": 3,
   "id": "7d456653",
   "metadata": {},
   "outputs": [
    {
     "data": {
      "text/html": [
       "<div>\n",
       "<style scoped>\n",
       "    .dataframe tbody tr th:only-of-type {\n",
       "        vertical-align: middle;\n",
       "    }\n",
       "\n",
       "    .dataframe tbody tr th {\n",
       "        vertical-align: top;\n",
       "    }\n",
       "\n",
       "    .dataframe thead th {\n",
       "        text-align: right;\n",
       "    }\n",
       "</style>\n",
       "<table border=\"1\" class=\"dataframe\">\n",
       "  <thead>\n",
       "    <tr style=\"text-align: right;\">\n",
       "      <th></th>\n",
       "      <th>ID</th>\n",
       "      <th>LIMIT_BAL</th>\n",
       "      <th>SEX</th>\n",
       "      <th>EDUCATION</th>\n",
       "      <th>MARRIAGE</th>\n",
       "      <th>AGE</th>\n",
       "      <th>PAY_0</th>\n",
       "      <th>PAY_2</th>\n",
       "      <th>PAY_3</th>\n",
       "      <th>PAY_4</th>\n",
       "      <th>PAY_5</th>\n",
       "      <th>PAY_6</th>\n",
       "      <th>BILL_AMT1</th>\n",
       "      <th>BILL_AMT2</th>\n",
       "      <th>BILL_AMT3</th>\n",
       "      <th>BILL_AMT4</th>\n",
       "      <th>BILL_AMT5</th>\n",
       "      <th>BILL_AMT6</th>\n",
       "      <th>PAY_AMT1</th>\n",
       "      <th>PAY_AMT2</th>\n",
       "      <th>PAY_AMT3</th>\n",
       "      <th>PAY_AMT4</th>\n",
       "      <th>PAY_AMT5</th>\n",
       "      <th>PAY_AMT6</th>\n",
       "      <th>default.payment.next.month</th>\n",
       "    </tr>\n",
       "  </thead>\n",
       "  <tbody>\n",
       "    <tr>\n",
       "      <th>0</th>\n",
       "      <td>1</td>\n",
       "      <td>20000.0</td>\n",
       "      <td>2</td>\n",
       "      <td>2</td>\n",
       "      <td>1</td>\n",
       "      <td>24</td>\n",
       "      <td>2</td>\n",
       "      <td>2</td>\n",
       "      <td>-1</td>\n",
       "      <td>-1</td>\n",
       "      <td>-2</td>\n",
       "      <td>-2</td>\n",
       "      <td>3913.0</td>\n",
       "      <td>3102.0</td>\n",
       "      <td>689.0</td>\n",
       "      <td>0.0</td>\n",
       "      <td>0.0</td>\n",
       "      <td>0.0</td>\n",
       "      <td>0.0</td>\n",
       "      <td>689.0</td>\n",
       "      <td>0.0</td>\n",
       "      <td>0.0</td>\n",
       "      <td>0.0</td>\n",
       "      <td>0.0</td>\n",
       "      <td>1</td>\n",
       "    </tr>\n",
       "    <tr>\n",
       "      <th>1</th>\n",
       "      <td>2</td>\n",
       "      <td>120000.0</td>\n",
       "      <td>2</td>\n",
       "      <td>2</td>\n",
       "      <td>2</td>\n",
       "      <td>26</td>\n",
       "      <td>-1</td>\n",
       "      <td>2</td>\n",
       "      <td>0</td>\n",
       "      <td>0</td>\n",
       "      <td>0</td>\n",
       "      <td>2</td>\n",
       "      <td>2682.0</td>\n",
       "      <td>1725.0</td>\n",
       "      <td>2682.0</td>\n",
       "      <td>3272.0</td>\n",
       "      <td>3455.0</td>\n",
       "      <td>3261.0</td>\n",
       "      <td>0.0</td>\n",
       "      <td>1000.0</td>\n",
       "      <td>1000.0</td>\n",
       "      <td>1000.0</td>\n",
       "      <td>0.0</td>\n",
       "      <td>2000.0</td>\n",
       "      <td>1</td>\n",
       "    </tr>\n",
       "    <tr>\n",
       "      <th>2</th>\n",
       "      <td>3</td>\n",
       "      <td>90000.0</td>\n",
       "      <td>2</td>\n",
       "      <td>2</td>\n",
       "      <td>2</td>\n",
       "      <td>34</td>\n",
       "      <td>0</td>\n",
       "      <td>0</td>\n",
       "      <td>0</td>\n",
       "      <td>0</td>\n",
       "      <td>0</td>\n",
       "      <td>0</td>\n",
       "      <td>29239.0</td>\n",
       "      <td>14027.0</td>\n",
       "      <td>13559.0</td>\n",
       "      <td>14331.0</td>\n",
       "      <td>14948.0</td>\n",
       "      <td>15549.0</td>\n",
       "      <td>1518.0</td>\n",
       "      <td>1500.0</td>\n",
       "      <td>1000.0</td>\n",
       "      <td>1000.0</td>\n",
       "      <td>1000.0</td>\n",
       "      <td>5000.0</td>\n",
       "      <td>0</td>\n",
       "    </tr>\n",
       "    <tr>\n",
       "      <th>3</th>\n",
       "      <td>4</td>\n",
       "      <td>50000.0</td>\n",
       "      <td>2</td>\n",
       "      <td>2</td>\n",
       "      <td>1</td>\n",
       "      <td>37</td>\n",
       "      <td>0</td>\n",
       "      <td>0</td>\n",
       "      <td>0</td>\n",
       "      <td>0</td>\n",
       "      <td>0</td>\n",
       "      <td>0</td>\n",
       "      <td>46990.0</td>\n",
       "      <td>48233.0</td>\n",
       "      <td>49291.0</td>\n",
       "      <td>28314.0</td>\n",
       "      <td>28959.0</td>\n",
       "      <td>29547.0</td>\n",
       "      <td>2000.0</td>\n",
       "      <td>2019.0</td>\n",
       "      <td>1200.0</td>\n",
       "      <td>1100.0</td>\n",
       "      <td>1069.0</td>\n",
       "      <td>1000.0</td>\n",
       "      <td>0</td>\n",
       "    </tr>\n",
       "    <tr>\n",
       "      <th>4</th>\n",
       "      <td>5</td>\n",
       "      <td>50000.0</td>\n",
       "      <td>1</td>\n",
       "      <td>2</td>\n",
       "      <td>1</td>\n",
       "      <td>57</td>\n",
       "      <td>-1</td>\n",
       "      <td>0</td>\n",
       "      <td>-1</td>\n",
       "      <td>0</td>\n",
       "      <td>0</td>\n",
       "      <td>0</td>\n",
       "      <td>8617.0</td>\n",
       "      <td>5670.0</td>\n",
       "      <td>35835.0</td>\n",
       "      <td>20940.0</td>\n",
       "      <td>19146.0</td>\n",
       "      <td>19131.0</td>\n",
       "      <td>2000.0</td>\n",
       "      <td>36681.0</td>\n",
       "      <td>10000.0</td>\n",
       "      <td>9000.0</td>\n",
       "      <td>689.0</td>\n",
       "      <td>679.0</td>\n",
       "      <td>0</td>\n",
       "    </tr>\n",
       "  </tbody>\n",
       "</table>\n",
       "</div>"
      ],
      "text/plain": [
       "   ID  LIMIT_BAL  SEX  EDUCATION  MARRIAGE  AGE  PAY_0  PAY_2  PAY_3  PAY_4  \\\n",
       "0   1    20000.0    2          2         1   24      2      2     -1     -1   \n",
       "1   2   120000.0    2          2         2   26     -1      2      0      0   \n",
       "2   3    90000.0    2          2         2   34      0      0      0      0   \n",
       "3   4    50000.0    2          2         1   37      0      0      0      0   \n",
       "4   5    50000.0    1          2         1   57     -1      0     -1      0   \n",
       "\n",
       "   PAY_5  PAY_6  BILL_AMT1  BILL_AMT2  BILL_AMT3  BILL_AMT4  BILL_AMT5  \\\n",
       "0     -2     -2     3913.0     3102.0      689.0        0.0        0.0   \n",
       "1      0      2     2682.0     1725.0     2682.0     3272.0     3455.0   \n",
       "2      0      0    29239.0    14027.0    13559.0    14331.0    14948.0   \n",
       "3      0      0    46990.0    48233.0    49291.0    28314.0    28959.0   \n",
       "4      0      0     8617.0     5670.0    35835.0    20940.0    19146.0   \n",
       "\n",
       "   BILL_AMT6  PAY_AMT1  PAY_AMT2  PAY_AMT3  PAY_AMT4  PAY_AMT5  PAY_AMT6  \\\n",
       "0        0.0       0.0     689.0       0.0       0.0       0.0       0.0   \n",
       "1     3261.0       0.0    1000.0    1000.0    1000.0       0.0    2000.0   \n",
       "2    15549.0    1518.0    1500.0    1000.0    1000.0    1000.0    5000.0   \n",
       "3    29547.0    2000.0    2019.0    1200.0    1100.0    1069.0    1000.0   \n",
       "4    19131.0    2000.0   36681.0   10000.0    9000.0     689.0     679.0   \n",
       "\n",
       "   default.payment.next.month  \n",
       "0                           1  \n",
       "1                           1  \n",
       "2                           0  \n",
       "3                           0  \n",
       "4                           0  "
      ]
     },
     "execution_count": 3,
     "metadata": {},
     "output_type": "execute_result"
    }
   ],
   "source": [
    "logger.info('Loading dataset')\n",
    "data= pd.read_csv(\"C:/Users/AMANDEEP/Downloads/internship/UCI_Credit_Card.csv\")\n",
    "pd.set_option('display.max_columns', 500)\n",
    "data.head()"
   ]
  },
  {
   "cell_type": "code",
   "execution_count": 4,
   "id": "4e63db2b",
   "metadata": {},
   "outputs": [
    {
     "name": "stdout",
     "output_type": "stream",
     "text": [
      "<class 'pandas.core.frame.DataFrame'>\n",
      "RangeIndex: 30000 entries, 0 to 29999\n",
      "Data columns (total 25 columns):\n",
      " #   Column                      Non-Null Count  Dtype  \n",
      "---  ------                      --------------  -----  \n",
      " 0   ID                          30000 non-null  int64  \n",
      " 1   LIMIT_BAL                   30000 non-null  float64\n",
      " 2   SEX                         30000 non-null  int64  \n",
      " 3   EDUCATION                   30000 non-null  int64  \n",
      " 4   MARRIAGE                    30000 non-null  int64  \n",
      " 5   AGE                         30000 non-null  int64  \n",
      " 6   PAY_0                       30000 non-null  int64  \n",
      " 7   PAY_2                       30000 non-null  int64  \n",
      " 8   PAY_3                       30000 non-null  int64  \n",
      " 9   PAY_4                       30000 non-null  int64  \n",
      " 10  PAY_5                       30000 non-null  int64  \n",
      " 11  PAY_6                       30000 non-null  int64  \n",
      " 12  BILL_AMT1                   30000 non-null  float64\n",
      " 13  BILL_AMT2                   30000 non-null  float64\n",
      " 14  BILL_AMT3                   30000 non-null  float64\n",
      " 15  BILL_AMT4                   30000 non-null  float64\n",
      " 16  BILL_AMT5                   30000 non-null  float64\n",
      " 17  BILL_AMT6                   30000 non-null  float64\n",
      " 18  PAY_AMT1                    30000 non-null  float64\n",
      " 19  PAY_AMT2                    30000 non-null  float64\n",
      " 20  PAY_AMT3                    30000 non-null  float64\n",
      " 21  PAY_AMT4                    30000 non-null  float64\n",
      " 22  PAY_AMT5                    30000 non-null  float64\n",
      " 23  PAY_AMT6                    30000 non-null  float64\n",
      " 24  default.payment.next.month  30000 non-null  int64  \n",
      "dtypes: float64(13), int64(12)\n",
      "memory usage: 5.7 MB\n"
     ]
    }
   ],
   "source": [
    "logger.info('Analyzing data...')\n",
    "data.info()"
   ]
  },
  {
   "cell_type": "code",
   "execution_count": 5,
   "id": "f7807953",
   "metadata": {},
   "outputs": [
    {
     "data": {
      "text/plain": [
       "ID                            30000\n",
       "LIMIT_BAL                        81\n",
       "SEX                               2\n",
       "EDUCATION                         7\n",
       "MARRIAGE                          4\n",
       "AGE                              56\n",
       "PAY_0                            11\n",
       "PAY_2                            11\n",
       "PAY_3                            11\n",
       "PAY_4                            11\n",
       "PAY_5                            10\n",
       "PAY_6                            10\n",
       "BILL_AMT1                     22723\n",
       "BILL_AMT2                     22346\n",
       "BILL_AMT3                     22026\n",
       "BILL_AMT4                     21548\n",
       "BILL_AMT5                     21010\n",
       "BILL_AMT6                     20604\n",
       "PAY_AMT1                       7943\n",
       "PAY_AMT2                       7899\n",
       "PAY_AMT3                       7518\n",
       "PAY_AMT4                       6937\n",
       "PAY_AMT5                       6897\n",
       "PAY_AMT6                       6939\n",
       "default.payment.next.month        2\n",
       "dtype: int64"
      ]
     },
     "execution_count": 5,
     "metadata": {},
     "output_type": "execute_result"
    }
   ],
   "source": [
    "data.nunique()"
   ]
  },
  {
   "cell_type": "code",
   "execution_count": 6,
   "id": "0bb7fa15",
   "metadata": {},
   "outputs": [],
   "source": [
    "data = data.rename(index=str,columns={'ID':'Id','LIMIT_BAL':'Limit',\n",
    "                              'SEX':'Sex','EDUCATION':'Education','MARRIAGE':'Marriage',\n",
    "                              'AGE':'Age','PAY_5':'Pay_may','PAY_6':'Pay_april',\n",
    "                              'PAY_0':'Pay_sept','PAY_2':'Pay_aug','PAY_3':'Pay_july','PAY_4':'Pay_june',\n",
    "                              'BILL_AMT1':'Bill_sept','BILL_AMT2':'Bill_aug','BILL_AMT3':'Bill_july',\n",
    "                              'BILL_AMT4':'Bill_june','BILL_AMT5':'Bill_may','BILL_AMT6':'Bill_april',\n",
    "                              'PAY_AMT1':'Amt_sept','PAY_AMT2':'Amt_aug','PAY_AMT3':'Amt_july',\n",
    "                              'PAY_AMT4':'Amt_june','PAY_AMT5':'Amt_may','PAY_AMT6':'Amt_april',\n",
    "                              'default.payment.next.month':'Default_pay'})"
   ]
  },
  {
   "cell_type": "code",
   "execution_count": 7,
   "id": "7ffa788b",
   "metadata": {},
   "outputs": [
    {
     "data": {
      "text/html": [
       "<div>\n",
       "<style scoped>\n",
       "    .dataframe tbody tr th:only-of-type {\n",
       "        vertical-align: middle;\n",
       "    }\n",
       "\n",
       "    .dataframe tbody tr th {\n",
       "        vertical-align: top;\n",
       "    }\n",
       "\n",
       "    .dataframe thead th {\n",
       "        text-align: right;\n",
       "    }\n",
       "</style>\n",
       "<table border=\"1\" class=\"dataframe\">\n",
       "  <thead>\n",
       "    <tr style=\"text-align: right;\">\n",
       "      <th></th>\n",
       "      <th>Id</th>\n",
       "      <th>Limit</th>\n",
       "      <th>Sex</th>\n",
       "      <th>Education</th>\n",
       "      <th>Marriage</th>\n",
       "      <th>Age</th>\n",
       "      <th>Pay_sept</th>\n",
       "      <th>Pay_aug</th>\n",
       "      <th>Pay_july</th>\n",
       "      <th>Pay_june</th>\n",
       "      <th>Pay_may</th>\n",
       "      <th>Pay_april</th>\n",
       "      <th>Bill_sept</th>\n",
       "      <th>Bill_aug</th>\n",
       "      <th>Bill_july</th>\n",
       "      <th>Bill_june</th>\n",
       "      <th>Bill_may</th>\n",
       "      <th>Bill_april</th>\n",
       "      <th>Amt_sept</th>\n",
       "      <th>Amt_aug</th>\n",
       "      <th>Amt_july</th>\n",
       "      <th>Amt_june</th>\n",
       "      <th>Amt_may</th>\n",
       "      <th>Amt_april</th>\n",
       "      <th>Default_pay</th>\n",
       "    </tr>\n",
       "  </thead>\n",
       "  <tbody>\n",
       "    <tr>\n",
       "      <th>count</th>\n",
       "      <td>30000.000000</td>\n",
       "      <td>30000.000000</td>\n",
       "      <td>30000.000000</td>\n",
       "      <td>30000.000000</td>\n",
       "      <td>30000.000000</td>\n",
       "      <td>30000.000000</td>\n",
       "      <td>30000.000000</td>\n",
       "      <td>30000.000000</td>\n",
       "      <td>30000.000000</td>\n",
       "      <td>30000.000000</td>\n",
       "      <td>30000.000000</td>\n",
       "      <td>30000.000000</td>\n",
       "      <td>30000.000000</td>\n",
       "      <td>30000.000000</td>\n",
       "      <td>3.000000e+04</td>\n",
       "      <td>30000.000000</td>\n",
       "      <td>30000.000000</td>\n",
       "      <td>30000.000000</td>\n",
       "      <td>30000.000000</td>\n",
       "      <td>3.000000e+04</td>\n",
       "      <td>30000.00000</td>\n",
       "      <td>30000.000000</td>\n",
       "      <td>30000.000000</td>\n",
       "      <td>30000.000000</td>\n",
       "      <td>30000.000000</td>\n",
       "    </tr>\n",
       "    <tr>\n",
       "      <th>mean</th>\n",
       "      <td>15000.500000</td>\n",
       "      <td>167484.322667</td>\n",
       "      <td>1.603733</td>\n",
       "      <td>1.853133</td>\n",
       "      <td>1.551867</td>\n",
       "      <td>35.485500</td>\n",
       "      <td>-0.016700</td>\n",
       "      <td>-0.133767</td>\n",
       "      <td>-0.166200</td>\n",
       "      <td>-0.220667</td>\n",
       "      <td>-0.266200</td>\n",
       "      <td>-0.291100</td>\n",
       "      <td>51223.330900</td>\n",
       "      <td>49179.075167</td>\n",
       "      <td>4.701315e+04</td>\n",
       "      <td>43262.948967</td>\n",
       "      <td>40311.400967</td>\n",
       "      <td>38871.760400</td>\n",
       "      <td>5663.580500</td>\n",
       "      <td>5.921163e+03</td>\n",
       "      <td>5225.68150</td>\n",
       "      <td>4826.076867</td>\n",
       "      <td>4799.387633</td>\n",
       "      <td>5215.502567</td>\n",
       "      <td>0.221200</td>\n",
       "    </tr>\n",
       "    <tr>\n",
       "      <th>std</th>\n",
       "      <td>8660.398374</td>\n",
       "      <td>129747.661567</td>\n",
       "      <td>0.489129</td>\n",
       "      <td>0.790349</td>\n",
       "      <td>0.521970</td>\n",
       "      <td>9.217904</td>\n",
       "      <td>1.123802</td>\n",
       "      <td>1.197186</td>\n",
       "      <td>1.196868</td>\n",
       "      <td>1.169139</td>\n",
       "      <td>1.133187</td>\n",
       "      <td>1.149988</td>\n",
       "      <td>73635.860576</td>\n",
       "      <td>71173.768783</td>\n",
       "      <td>6.934939e+04</td>\n",
       "      <td>64332.856134</td>\n",
       "      <td>60797.155770</td>\n",
       "      <td>59554.107537</td>\n",
       "      <td>16563.280354</td>\n",
       "      <td>2.304087e+04</td>\n",
       "      <td>17606.96147</td>\n",
       "      <td>15666.159744</td>\n",
       "      <td>15278.305679</td>\n",
       "      <td>17777.465775</td>\n",
       "      <td>0.415062</td>\n",
       "    </tr>\n",
       "    <tr>\n",
       "      <th>min</th>\n",
       "      <td>1.000000</td>\n",
       "      <td>10000.000000</td>\n",
       "      <td>1.000000</td>\n",
       "      <td>0.000000</td>\n",
       "      <td>0.000000</td>\n",
       "      <td>21.000000</td>\n",
       "      <td>-2.000000</td>\n",
       "      <td>-2.000000</td>\n",
       "      <td>-2.000000</td>\n",
       "      <td>-2.000000</td>\n",
       "      <td>-2.000000</td>\n",
       "      <td>-2.000000</td>\n",
       "      <td>-165580.000000</td>\n",
       "      <td>-69777.000000</td>\n",
       "      <td>-1.572640e+05</td>\n",
       "      <td>-170000.000000</td>\n",
       "      <td>-81334.000000</td>\n",
       "      <td>-339603.000000</td>\n",
       "      <td>0.000000</td>\n",
       "      <td>0.000000e+00</td>\n",
       "      <td>0.00000</td>\n",
       "      <td>0.000000</td>\n",
       "      <td>0.000000</td>\n",
       "      <td>0.000000</td>\n",
       "      <td>0.000000</td>\n",
       "    </tr>\n",
       "    <tr>\n",
       "      <th>25%</th>\n",
       "      <td>7500.750000</td>\n",
       "      <td>50000.000000</td>\n",
       "      <td>1.000000</td>\n",
       "      <td>1.000000</td>\n",
       "      <td>1.000000</td>\n",
       "      <td>28.000000</td>\n",
       "      <td>-1.000000</td>\n",
       "      <td>-1.000000</td>\n",
       "      <td>-1.000000</td>\n",
       "      <td>-1.000000</td>\n",
       "      <td>-1.000000</td>\n",
       "      <td>-1.000000</td>\n",
       "      <td>3558.750000</td>\n",
       "      <td>2984.750000</td>\n",
       "      <td>2.666250e+03</td>\n",
       "      <td>2326.750000</td>\n",
       "      <td>1763.000000</td>\n",
       "      <td>1256.000000</td>\n",
       "      <td>1000.000000</td>\n",
       "      <td>8.330000e+02</td>\n",
       "      <td>390.00000</td>\n",
       "      <td>296.000000</td>\n",
       "      <td>252.500000</td>\n",
       "      <td>117.750000</td>\n",
       "      <td>0.000000</td>\n",
       "    </tr>\n",
       "    <tr>\n",
       "      <th>50%</th>\n",
       "      <td>15000.500000</td>\n",
       "      <td>140000.000000</td>\n",
       "      <td>2.000000</td>\n",
       "      <td>2.000000</td>\n",
       "      <td>2.000000</td>\n",
       "      <td>34.000000</td>\n",
       "      <td>0.000000</td>\n",
       "      <td>0.000000</td>\n",
       "      <td>0.000000</td>\n",
       "      <td>0.000000</td>\n",
       "      <td>0.000000</td>\n",
       "      <td>0.000000</td>\n",
       "      <td>22381.500000</td>\n",
       "      <td>21200.000000</td>\n",
       "      <td>2.008850e+04</td>\n",
       "      <td>19052.000000</td>\n",
       "      <td>18104.500000</td>\n",
       "      <td>17071.000000</td>\n",
       "      <td>2100.000000</td>\n",
       "      <td>2.009000e+03</td>\n",
       "      <td>1800.00000</td>\n",
       "      <td>1500.000000</td>\n",
       "      <td>1500.000000</td>\n",
       "      <td>1500.000000</td>\n",
       "      <td>0.000000</td>\n",
       "    </tr>\n",
       "    <tr>\n",
       "      <th>75%</th>\n",
       "      <td>22500.250000</td>\n",
       "      <td>240000.000000</td>\n",
       "      <td>2.000000</td>\n",
       "      <td>2.000000</td>\n",
       "      <td>2.000000</td>\n",
       "      <td>41.000000</td>\n",
       "      <td>0.000000</td>\n",
       "      <td>0.000000</td>\n",
       "      <td>0.000000</td>\n",
       "      <td>0.000000</td>\n",
       "      <td>0.000000</td>\n",
       "      <td>0.000000</td>\n",
       "      <td>67091.000000</td>\n",
       "      <td>64006.250000</td>\n",
       "      <td>6.016475e+04</td>\n",
       "      <td>54506.000000</td>\n",
       "      <td>50190.500000</td>\n",
       "      <td>49198.250000</td>\n",
       "      <td>5006.000000</td>\n",
       "      <td>5.000000e+03</td>\n",
       "      <td>4505.00000</td>\n",
       "      <td>4013.250000</td>\n",
       "      <td>4031.500000</td>\n",
       "      <td>4000.000000</td>\n",
       "      <td>0.000000</td>\n",
       "    </tr>\n",
       "    <tr>\n",
       "      <th>max</th>\n",
       "      <td>30000.000000</td>\n",
       "      <td>1000000.000000</td>\n",
       "      <td>2.000000</td>\n",
       "      <td>6.000000</td>\n",
       "      <td>3.000000</td>\n",
       "      <td>79.000000</td>\n",
       "      <td>8.000000</td>\n",
       "      <td>8.000000</td>\n",
       "      <td>8.000000</td>\n",
       "      <td>8.000000</td>\n",
       "      <td>8.000000</td>\n",
       "      <td>8.000000</td>\n",
       "      <td>964511.000000</td>\n",
       "      <td>983931.000000</td>\n",
       "      <td>1.664089e+06</td>\n",
       "      <td>891586.000000</td>\n",
       "      <td>927171.000000</td>\n",
       "      <td>961664.000000</td>\n",
       "      <td>873552.000000</td>\n",
       "      <td>1.684259e+06</td>\n",
       "      <td>896040.00000</td>\n",
       "      <td>621000.000000</td>\n",
       "      <td>426529.000000</td>\n",
       "      <td>528666.000000</td>\n",
       "      <td>1.000000</td>\n",
       "    </tr>\n",
       "  </tbody>\n",
       "</table>\n",
       "</div>"
      ],
      "text/plain": [
       "                 Id           Limit           Sex     Education      Marriage  \\\n",
       "count  30000.000000    30000.000000  30000.000000  30000.000000  30000.000000   \n",
       "mean   15000.500000   167484.322667      1.603733      1.853133      1.551867   \n",
       "std     8660.398374   129747.661567      0.489129      0.790349      0.521970   \n",
       "min        1.000000    10000.000000      1.000000      0.000000      0.000000   \n",
       "25%     7500.750000    50000.000000      1.000000      1.000000      1.000000   \n",
       "50%    15000.500000   140000.000000      2.000000      2.000000      2.000000   \n",
       "75%    22500.250000   240000.000000      2.000000      2.000000      2.000000   \n",
       "max    30000.000000  1000000.000000      2.000000      6.000000      3.000000   \n",
       "\n",
       "                Age      Pay_sept       Pay_aug      Pay_july      Pay_june  \\\n",
       "count  30000.000000  30000.000000  30000.000000  30000.000000  30000.000000   \n",
       "mean      35.485500     -0.016700     -0.133767     -0.166200     -0.220667   \n",
       "std        9.217904      1.123802      1.197186      1.196868      1.169139   \n",
       "min       21.000000     -2.000000     -2.000000     -2.000000     -2.000000   \n",
       "25%       28.000000     -1.000000     -1.000000     -1.000000     -1.000000   \n",
       "50%       34.000000      0.000000      0.000000      0.000000      0.000000   \n",
       "75%       41.000000      0.000000      0.000000      0.000000      0.000000   \n",
       "max       79.000000      8.000000      8.000000      8.000000      8.000000   \n",
       "\n",
       "            Pay_may     Pay_april      Bill_sept       Bill_aug     Bill_july  \\\n",
       "count  30000.000000  30000.000000   30000.000000   30000.000000  3.000000e+04   \n",
       "mean      -0.266200     -0.291100   51223.330900   49179.075167  4.701315e+04   \n",
       "std        1.133187      1.149988   73635.860576   71173.768783  6.934939e+04   \n",
       "min       -2.000000     -2.000000 -165580.000000  -69777.000000 -1.572640e+05   \n",
       "25%       -1.000000     -1.000000    3558.750000    2984.750000  2.666250e+03   \n",
       "50%        0.000000      0.000000   22381.500000   21200.000000  2.008850e+04   \n",
       "75%        0.000000      0.000000   67091.000000   64006.250000  6.016475e+04   \n",
       "max        8.000000      8.000000  964511.000000  983931.000000  1.664089e+06   \n",
       "\n",
       "           Bill_june       Bill_may     Bill_april       Amt_sept  \\\n",
       "count   30000.000000   30000.000000   30000.000000   30000.000000   \n",
       "mean    43262.948967   40311.400967   38871.760400    5663.580500   \n",
       "std     64332.856134   60797.155770   59554.107537   16563.280354   \n",
       "min   -170000.000000  -81334.000000 -339603.000000       0.000000   \n",
       "25%      2326.750000    1763.000000    1256.000000    1000.000000   \n",
       "50%     19052.000000   18104.500000   17071.000000    2100.000000   \n",
       "75%     54506.000000   50190.500000   49198.250000    5006.000000   \n",
       "max    891586.000000  927171.000000  961664.000000  873552.000000   \n",
       "\n",
       "            Amt_aug      Amt_july       Amt_june        Amt_may  \\\n",
       "count  3.000000e+04   30000.00000   30000.000000   30000.000000   \n",
       "mean   5.921163e+03    5225.68150    4826.076867    4799.387633   \n",
       "std    2.304087e+04   17606.96147   15666.159744   15278.305679   \n",
       "min    0.000000e+00       0.00000       0.000000       0.000000   \n",
       "25%    8.330000e+02     390.00000     296.000000     252.500000   \n",
       "50%    2.009000e+03    1800.00000    1500.000000    1500.000000   \n",
       "75%    5.000000e+03    4505.00000    4013.250000    4031.500000   \n",
       "max    1.684259e+06  896040.00000  621000.000000  426529.000000   \n",
       "\n",
       "           Amt_april   Default_pay  \n",
       "count   30000.000000  30000.000000  \n",
       "mean     5215.502567      0.221200  \n",
       "std     17777.465775      0.415062  \n",
       "min         0.000000      0.000000  \n",
       "25%       117.750000      0.000000  \n",
       "50%      1500.000000      0.000000  \n",
       "75%      4000.000000      0.000000  \n",
       "max    528666.000000      1.000000  "
      ]
     },
     "execution_count": 7,
     "metadata": {},
     "output_type": "execute_result"
    }
   ],
   "source": [
    "data.describe()"
   ]
  },
  {
   "cell_type": "markdown",
   "id": "5985a65c",
   "metadata": {},
   "source": [
    "There are 30,000 distinct credit card clients.\n",
    "\n",
    "The average value for the amount of credit card limit is 167,484. The standard deviation is unusually large, max value being 1M.\n",
    "\n",
    "Education level is mostly graduate school and university.\n",
    "\n",
    "Most of the clients are either marrined or single (less frequent the other status).\n",
    "\n",
    "Average age is 35.5 years, with a standard deviation of 9.2.\n",
    "\n",
    "As the value 0 for default payment means 'not default' and value 1 means 'default', the mean of 0.221 means that there are 22.1% of credit card contracts that will default next month."
   ]
  },
  {
   "cell_type": "code",
   "execution_count": 8,
   "id": "89c4f432",
   "metadata": {},
   "outputs": [
    {
     "data": {
      "text/plain": [
       "False    30000\n",
       "dtype: int64"
      ]
     },
     "execution_count": 8,
     "metadata": {},
     "output_type": "execute_result"
    }
   ],
   "source": [
    "data.duplicated().value_counts()"
   ]
  },
  {
   "cell_type": "markdown",
   "id": "18383682",
   "metadata": {},
   "source": [
    "The largest number of credit cards are with limit of 50,000 (3365), followed by 20,000 (1976) and 30,000 (1610)."
   ]
  },
  {
   "cell_type": "code",
   "execution_count": 9,
   "id": "b6aa183e",
   "metadata": {},
   "outputs": [],
   "source": [
    "data=data.drop('Id',axis=1)"
   ]
  },
  {
   "cell_type": "code",
   "execution_count": 10,
   "id": "0f5087b9",
   "metadata": {},
   "outputs": [],
   "source": [
    "df1= data.copy()"
   ]
  },
  {
   "cell_type": "markdown",
   "id": "6293326a",
   "metadata": {},
   "source": [
    "## Explore the target variable"
   ]
  },
  {
   "cell_type": "code",
   "execution_count": 42,
   "id": "1bfd46be",
   "metadata": {},
   "outputs": [
    {
     "name": "stdout",
     "output_type": "stream",
     "text": [
      "0    23364\n",
      "1     6636\n",
      "Name: Default_pay, dtype: int64\n"
     ]
    },
    {
     "data": {
      "image/png": "[encoded data removed]",
      "text/plain": [
       "<Figure size 640x480 with 1 Axes>"
      ]
     },
     "metadata": {},
     "output_type": "display_data"
    }
   ],
   "source": [
    "logger.info('Exploring the target variables...')\n",
    "print(data['Default_pay'].value_counts())\n",
    "sns.countplot(x='Default_pay',data=data)\n",
    "plt.show()"
   ]
  },
  {
   "cell_type": "markdown",
   "id": "de8467dc",
   "metadata": {},
   "source": [
    "6636 out of 30000 (22%) of clients will default next time."
   ]
  },
  {
   "cell_type": "code",
   "execution_count": 13,
   "id": "a1b16532",
   "metadata": {},
   "outputs": [
    {
     "data": {
      "text/plain": [
       "<AxesSubplot:xlabel='Age', ylabel='Density'>"
      ]
     },
     "execution_count": 13,
     "metadata": {},
     "output_type": "execute_result"
    },
    {
     "data": {
      "image/png": "[encoded data removed]",
      "text/plain": [
       "<Figure size 1500x1000 with 2 Axes>"
      ]
     },
     "metadata": {},
     "output_type": "display_data"
    }
   ],
   "source": [
    "plt.figure(figsize=(15,10))\n",
    "plt.subplot(2,2,1)\n",
    "sns.distplot(data[\"Limit\"])\n",
    "plt.subplot(2,2,2)\n",
    "sns.distplot(data['Age'])"
   ]
  },
  {
   "cell_type": "markdown",
   "id": "6d43448b",
   "metadata": {},
   "source": [
    "Dataset consists of skewed data of limiting balance and age of clients.\n",
    "\n",
    "We have more number of clients having limiting balance between 0 to 200000 currency.\n",
    "\n",
    "We have more number of clients from age bracket of 20 to 40, i.e., clients from mostly young to mid aged groups."
   ]
  },
  {
   "cell_type": "code",
   "execution_count": 14,
   "id": "731b3ec4",
   "metadata": {},
   "outputs": [
    {
     "data": {
      "image/png": "[encoded data removed]",
      "text/plain": [
       "<Figure size 800x500 with 1 Axes>"
      ]
     },
     "metadata": {},
     "output_type": "display_data"
    }
   ],
   "source": [
    "bins = [20,30,40,50,60,70,80]\n",
    "names = ['21-30','31-40','41-50','51-60','61-70','71-80']\n",
    "df1['AGE_BIN'] = pd.cut(x=df1['Age'], bins=bins, labels=names, right=True)\n",
    "\n",
    "age_cnt = df1.AGE_BIN.value_counts()\n",
    "age_0 = (df1.AGE_BIN[df1['Default_pay'] == 0].value_counts())\n",
    "age_1 = (df1.AGE_BIN[df1['Default_pay'] == 1].value_counts())\n",
    "\n",
    "plt.subplots(figsize=(8,5))\n",
    "plt.bar(age_0.index, age_0.values, label='0')\n",
    "plt.bar(age_1.index, age_1.values, label='1')\n",
    "for x,y in zip(names,age_0):\n",
    "    plt.text(x,y,y,fontsize=10)\n",
    "for x,y in zip(names,age_1):\n",
    "    plt.text(x,y,y,fontsize=10)\n",
    "plt.xticks(fontsize=10)\n",
    "plt.yticks(fontsize=10)\n",
    "plt.title(\"Number of clients in each age group\", fontsize=15)\n",
    "plt.legend(loc='upper right', fontsize=15)\n",
    "plt.show()"
   ]
  },
  {
   "cell_type": "markdown",
   "id": "f334780e",
   "metadata": {},
   "source": [
    "We have maximum clients from 21-30 age group followed by 31-40. Hence with increasing age group the number of clients that will default the payment next month is decreasing. Hence we can see that Age is important feature to predict the default payment for next month."
   ]
  },
  {
   "cell_type": "code",
   "execution_count": 15,
   "id": "b062d1d1",
   "metadata": {},
   "outputs": [
    {
     "data": {
      "image/png": "[encoded data removed]",
      "text/plain": [
       "<Figure size 1200x600 with 8 Axes>"
      ]
     },
     "metadata": {},
     "output_type": "display_data"
    }
   ],
   "source": [
    "g = sns.FacetGrid(df1, row='Default_pay', col='Marriage')\n",
    "g = g.map(plt.hist, 'Age')\n",
    "plt.show()"
   ]
  },
  {
   "cell_type": "markdown",
   "id": "eca67847",
   "metadata": {},
   "source": [
    "Married people between age bracket of 30 and 50 and unmarried clients of age 20-30 tend to default payment with unmarried clients higher probability to default payment. Hence we can include MARRIAGE feature of clients to find probability of defaulting the payment next month"
   ]
  },
  {
   "cell_type": "code",
   "execution_count": 16,
   "id": "cff90056",
   "metadata": {},
   "outputs": [
    {
     "data": {
      "image/png": "[encoded data removed]",
      "text/plain": [
       "<Figure size 600x600 with 4 Axes>"
      ]
     },
     "metadata": {},
     "output_type": "display_data"
    }
   ],
   "source": [
    "g = sns.FacetGrid(df1, row='Default_pay', col='Sex')\n",
    "g = g.map(plt.hist, 'Age')\n",
    "plt.show()"
   ]
  },
  {
   "cell_type": "markdown",
   "id": "35e1eff4",
   "metadata": {},
   "source": [
    "Females of age group 20-30 have very high tendency to default payment compared to males in all age brackets. Hence we can keep the SEX column of clients to predict probability of defaulting payment."
   ]
  },
  {
   "cell_type": "code",
   "execution_count": 17,
   "id": "7beaf015",
   "metadata": {},
   "outputs": [
    {
     "data": {
      "image/png": "[encoded data removed]",
      "text/plain": [
       "<Figure size 2100x600 with 14 Axes>"
      ]
     },
     "metadata": {},
     "output_type": "display_data"
    }
   ],
   "source": [
    "g = sns.FacetGrid(df1, row='Default_pay', col='Education')\n",
    "g = g.map(plt.hist, 'Age')\n",
    "plt.show()"
   ]
  },
  {
   "cell_type": "markdown",
   "id": "c2a93dcb",
   "metadata": {},
   "source": [
    "People who are graduate or are in university of age 20-40 have high tendency to default payment compared to others."
   ]
  },
  {
   "cell_type": "markdown",
   "id": "de816c81",
   "metadata": {},
   "source": [
    "## Feature Engeneering"
   ]
  },
  {
   "cell_type": "code",
   "execution_count": 18,
   "id": "943cbf39",
   "metadata": {},
   "outputs": [],
   "source": [
    "df1=df1.drop('AGE_BIN',axis=1)"
   ]
  },
  {
   "cell_type": "code",
   "execution_count": 19,
   "id": "fdf44685",
   "metadata": {},
   "outputs": [],
   "source": [
    "# change the datatype of categorical features from integer to category\n",
    "df1.Sex = df1.Sex.astype(\"category\")\n",
    "df1.Education = df1.Education.astype(\"category\")\n",
    "df1.Marriage = df1.Marriage.astype(\"category\")\n",
    "df1.Pay_sept = df1.Pay_sept.astype(\"category\")\n",
    "df1.Pay_aug = df1.Pay_aug.astype(\"category\")\n",
    "df1.Pay_july = df1.Pay_july.astype(\"category\")\n",
    "df1.Pay_june = df1.Pay_june.astype(\"category\")\n",
    "df1.Pay_may = df1.Pay_may.astype(\"category\")\n",
    "df1.Pay_april = df1.Pay_april.astype(\"category\")\n",
    "df1.Default_pay = df1.Default_pay.astype(\"category\")"
   ]
  },
  {
   "cell_type": "code",
   "execution_count": 20,
   "id": "1497bcb3",
   "metadata": {},
   "outputs": [
    {
     "data": {
      "text/plain": [
       "4"
      ]
     },
     "execution_count": 20,
     "metadata": {},
     "output_type": "execute_result"
    }
   ],
   "source": [
    "df1.loc[df1['Education']==0,\"Education\"]=4\n",
    "df1.loc[df1['Education']==5,\"Education\"]=4\n",
    "df1.loc[df1['Education']==6,\"Education\"]=4\n",
    "df1['Education'].nunique()"
   ]
  },
  {
   "cell_type": "code",
   "execution_count": 21,
   "id": "53e35d57",
   "metadata": {},
   "outputs": [
    {
     "data": {
      "text/plain": [
       "3"
      ]
     },
     "execution_count": 21,
     "metadata": {},
     "output_type": "execute_result"
    }
   ],
   "source": [
    "df1.loc[df1['Marriage']==0,\"Marriage\"]=3\n",
    "df1['Marriage'].nunique()"
   ]
  },
  {
   "cell_type": "markdown",
   "id": "8542992b",
   "metadata": {},
   "source": [
    "## Over Sampling for Unbiased Data"
   ]
  },
  {
   "cell_type": "code",
   "execution_count": 24,
   "id": "45b8822f",
   "metadata": {},
   "outputs": [],
   "source": [
    "logger.info('Oversampling data...')\n",
    "from imblearn.over_sampling import SMOTE\n",
    "smote=SMOTE(random_state=42)\n",
    "x_smote,y_smote=smote.fit_resample(df1.iloc[:,0:-1].astype('float'),df1['Default_pay'])"
   ]
  },
  {
   "cell_type": "code",
   "execution_count": 25,
   "id": "431b259f",
   "metadata": {},
   "outputs": [],
   "source": [
    "columns=list(df1.columns)\n",
    "df2=pd.DataFrame(x_smote,columns=columns)\n",
    "df2[\"Default_pay\"]=y_smote"
   ]
  },
  {
   "cell_type": "code",
   "execution_count": 26,
   "id": "fee769d9",
   "metadata": {},
   "outputs": [
    {
     "data": {
      "text/html": [
       "<div>\n",
       "<style scoped>\n",
       "    .dataframe tbody tr th:only-of-type {\n",
       "        vertical-align: middle;\n",
       "    }\n",
       "\n",
       "    .dataframe tbody tr th {\n",
       "        vertical-align: top;\n",
       "    }\n",
       "\n",
       "    .dataframe thead th {\n",
       "        text-align: right;\n",
       "    }\n",
       "</style>\n",
       "<table border=\"1\" class=\"dataframe\">\n",
       "  <thead>\n",
       "    <tr style=\"text-align: right;\">\n",
       "      <th></th>\n",
       "      <th>Limit</th>\n",
       "      <th>Sex</th>\n",
       "      <th>Education</th>\n",
       "      <th>Marriage</th>\n",
       "      <th>Age</th>\n",
       "      <th>Pay_sept</th>\n",
       "      <th>Pay_aug</th>\n",
       "      <th>Pay_july</th>\n",
       "      <th>Pay_june</th>\n",
       "      <th>Pay_may</th>\n",
       "      <th>Pay_april</th>\n",
       "      <th>Bill_sept</th>\n",
       "      <th>Bill_aug</th>\n",
       "      <th>Bill_july</th>\n",
       "      <th>Bill_june</th>\n",
       "      <th>Bill_may</th>\n",
       "      <th>Bill_april</th>\n",
       "      <th>Amt_sept</th>\n",
       "      <th>Amt_aug</th>\n",
       "      <th>Amt_july</th>\n",
       "      <th>Amt_june</th>\n",
       "      <th>Amt_may</th>\n",
       "      <th>Amt_april</th>\n",
       "      <th>Default_pay</th>\n",
       "    </tr>\n",
       "  </thead>\n",
       "  <tbody>\n",
       "    <tr>\n",
       "      <th>0</th>\n",
       "      <td>20000.000000</td>\n",
       "      <td>2.000000</td>\n",
       "      <td>2.000000</td>\n",
       "      <td>1.000000</td>\n",
       "      <td>24.000000</td>\n",
       "      <td>2.000000</td>\n",
       "      <td>2.000000</td>\n",
       "      <td>-1.000000</td>\n",
       "      <td>-1.000000</td>\n",
       "      <td>-2.000000</td>\n",
       "      <td>-2.000000</td>\n",
       "      <td>3913.000000</td>\n",
       "      <td>3102.000000</td>\n",
       "      <td>689.000000</td>\n",
       "      <td>0.000000</td>\n",
       "      <td>0.000000</td>\n",
       "      <td>0.000000</td>\n",
       "      <td>0.000000</td>\n",
       "      <td>689.000000</td>\n",
       "      <td>0.000000</td>\n",
       "      <td>0.000000</td>\n",
       "      <td>0.000000</td>\n",
       "      <td>0.000000</td>\n",
       "      <td>1</td>\n",
       "    </tr>\n",
       "    <tr>\n",
       "      <th>1</th>\n",
       "      <td>120000.000000</td>\n",
       "      <td>2.000000</td>\n",
       "      <td>2.000000</td>\n",
       "      <td>2.000000</td>\n",
       "      <td>26.000000</td>\n",
       "      <td>-1.000000</td>\n",
       "      <td>2.000000</td>\n",
       "      <td>0.000000</td>\n",
       "      <td>0.000000</td>\n",
       "      <td>0.000000</td>\n",
       "      <td>2.000000</td>\n",
       "      <td>2682.000000</td>\n",
       "      <td>1725.000000</td>\n",
       "      <td>2682.000000</td>\n",
       "      <td>3272.000000</td>\n",
       "      <td>3455.000000</td>\n",
       "      <td>3261.000000</td>\n",
       "      <td>0.000000</td>\n",
       "      <td>1000.000000</td>\n",
       "      <td>1000.000000</td>\n",
       "      <td>1000.000000</td>\n",
       "      <td>0.000000</td>\n",
       "      <td>2000.000000</td>\n",
       "      <td>1</td>\n",
       "    </tr>\n",
       "    <tr>\n",
       "      <th>2</th>\n",
       "      <td>90000.000000</td>\n",
       "      <td>2.000000</td>\n",
       "      <td>2.000000</td>\n",
       "      <td>2.000000</td>\n",
       "      <td>34.000000</td>\n",
       "      <td>0.000000</td>\n",
       "      <td>0.000000</td>\n",
       "      <td>0.000000</td>\n",
       "      <td>0.000000</td>\n",
       "      <td>0.000000</td>\n",
       "      <td>0.000000</td>\n",
       "      <td>29239.000000</td>\n",
       "      <td>14027.000000</td>\n",
       "      <td>13559.000000</td>\n",
       "      <td>14331.000000</td>\n",
       "      <td>14948.000000</td>\n",
       "      <td>15549.000000</td>\n",
       "      <td>1518.000000</td>\n",
       "      <td>1500.000000</td>\n",
       "      <td>1000.000000</td>\n",
       "      <td>1000.000000</td>\n",
       "      <td>1000.000000</td>\n",
       "      <td>5000.000000</td>\n",
       "      <td>0</td>\n",
       "    </tr>\n",
       "    <tr>\n",
       "      <th>3</th>\n",
       "      <td>50000.000000</td>\n",
       "      <td>2.000000</td>\n",
       "      <td>2.000000</td>\n",
       "      <td>1.000000</td>\n",
       "      <td>37.000000</td>\n",
       "      <td>0.000000</td>\n",
       "      <td>0.000000</td>\n",
       "      <td>0.000000</td>\n",
       "      <td>0.000000</td>\n",
       "      <td>0.000000</td>\n",
       "      <td>0.000000</td>\n",
       "      <td>46990.000000</td>\n",
       "      <td>48233.000000</td>\n",
       "      <td>49291.000000</td>\n",
       "      <td>28314.000000</td>\n",
       "      <td>28959.000000</td>\n",
       "      <td>29547.000000</td>\n",
       "      <td>2000.000000</td>\n",
       "      <td>2019.000000</td>\n",
       "      <td>1200.000000</td>\n",
       "      <td>1100.000000</td>\n",
       "      <td>1069.000000</td>\n",
       "      <td>1000.000000</td>\n",
       "      <td>0</td>\n",
       "    </tr>\n",
       "    <tr>\n",
       "      <th>4</th>\n",
       "      <td>50000.000000</td>\n",
       "      <td>1.000000</td>\n",
       "      <td>2.000000</td>\n",
       "      <td>1.000000</td>\n",
       "      <td>57.000000</td>\n",
       "      <td>-1.000000</td>\n",
       "      <td>0.000000</td>\n",
       "      <td>-1.000000</td>\n",
       "      <td>0.000000</td>\n",
       "      <td>0.000000</td>\n",
       "      <td>0.000000</td>\n",
       "      <td>8617.000000</td>\n",
       "      <td>5670.000000</td>\n",
       "      <td>35835.000000</td>\n",
       "      <td>20940.000000</td>\n",
       "      <td>19146.000000</td>\n",
       "      <td>19131.000000</td>\n",
       "      <td>2000.000000</td>\n",
       "      <td>36681.000000</td>\n",
       "      <td>10000.000000</td>\n",
       "      <td>9000.000000</td>\n",
       "      <td>689.000000</td>\n",
       "      <td>679.000000</td>\n",
       "      <td>0</td>\n",
       "    </tr>\n",
       "    <tr>\n",
       "      <th>...</th>\n",
       "      <td>...</td>\n",
       "      <td>...</td>\n",
       "      <td>...</td>\n",
       "      <td>...</td>\n",
       "      <td>...</td>\n",
       "      <td>...</td>\n",
       "      <td>...</td>\n",
       "      <td>...</td>\n",
       "      <td>...</td>\n",
       "      <td>...</td>\n",
       "      <td>...</td>\n",
       "      <td>...</td>\n",
       "      <td>...</td>\n",
       "      <td>...</td>\n",
       "      <td>...</td>\n",
       "      <td>...</td>\n",
       "      <td>...</td>\n",
       "      <td>...</td>\n",
       "      <td>...</td>\n",
       "      <td>...</td>\n",
       "      <td>...</td>\n",
       "      <td>...</td>\n",
       "      <td>...</td>\n",
       "      <td>...</td>\n",
       "    </tr>\n",
       "    <tr>\n",
       "      <th>46723</th>\n",
       "      <td>462164.268649</td>\n",
       "      <td>1.216427</td>\n",
       "      <td>1.216427</td>\n",
       "      <td>1.000000</td>\n",
       "      <td>41.164269</td>\n",
       "      <td>1.567146</td>\n",
       "      <td>1.350719</td>\n",
       "      <td>3.701439</td>\n",
       "      <td>3.701439</td>\n",
       "      <td>3.701439</td>\n",
       "      <td>3.701439</td>\n",
       "      <td>2688.269190</td>\n",
       "      <td>2249.139081</td>\n",
       "      <td>3610.680489</td>\n",
       "      <td>3401.179283</td>\n",
       "      <td>2375.315944</td>\n",
       "      <td>1955.014972</td>\n",
       "      <td>294.124109</td>\n",
       "      <td>1655.665516</td>\n",
       "      <td>1446.164311</td>\n",
       "      <td>420.300972</td>\n",
       "      <td>0.000000</td>\n",
       "      <td>1270.425697</td>\n",
       "      <td>1</td>\n",
       "    </tr>\n",
       "    <tr>\n",
       "      <th>46724</th>\n",
       "      <td>35576.497730</td>\n",
       "      <td>1.442350</td>\n",
       "      <td>1.000000</td>\n",
       "      <td>2.000000</td>\n",
       "      <td>23.115300</td>\n",
       "      <td>0.884700</td>\n",
       "      <td>0.884700</td>\n",
       "      <td>0.000000</td>\n",
       "      <td>0.000000</td>\n",
       "      <td>0.000000</td>\n",
       "      <td>-0.442350</td>\n",
       "      <td>29694.345994</td>\n",
       "      <td>28646.618035</td>\n",
       "      <td>16550.609104</td>\n",
       "      <td>12672.613622</td>\n",
       "      <td>7794.437831</td>\n",
       "      <td>4339.875461</td>\n",
       "      <td>724.944705</td>\n",
       "      <td>1759.975670</td>\n",
       "      <td>620.240505</td>\n",
       "      <td>304.412443</td>\n",
       "      <td>342.084239</td>\n",
       "      <td>154.468987</td>\n",
       "      <td>1</td>\n",
       "    </tr>\n",
       "    <tr>\n",
       "      <th>46725</th>\n",
       "      <td>262277.075863</td>\n",
       "      <td>1.000000</td>\n",
       "      <td>1.818472</td>\n",
       "      <td>1.590764</td>\n",
       "      <td>33.772292</td>\n",
       "      <td>1.181528</td>\n",
       "      <td>1.181528</td>\n",
       "      <td>1.181528</td>\n",
       "      <td>1.181528</td>\n",
       "      <td>1.181528</td>\n",
       "      <td>1.181528</td>\n",
       "      <td>155844.179310</td>\n",
       "      <td>164066.687603</td>\n",
       "      <td>163884.824773</td>\n",
       "      <td>176985.751580</td>\n",
       "      <td>179204.686146</td>\n",
       "      <td>183003.869208</td>\n",
       "      <td>11316.877241</td>\n",
       "      <td>2864.651035</td>\n",
       "      <td>16945.592209</td>\n",
       "      <td>6132.419972</td>\n",
       "      <td>6201.990069</td>\n",
       "      <td>6045.222621</td>\n",
       "      <td>1</td>\n",
       "    </tr>\n",
       "    <tr>\n",
       "      <th>46726</th>\n",
       "      <td>278870.779545</td>\n",
       "      <td>1.112922</td>\n",
       "      <td>2.000000</td>\n",
       "      <td>1.112922</td>\n",
       "      <td>38.435390</td>\n",
       "      <td>-1.887078</td>\n",
       "      <td>-1.887078</td>\n",
       "      <td>-1.887078</td>\n",
       "      <td>-1.887078</td>\n",
       "      <td>-1.887078</td>\n",
       "      <td>-1.887078</td>\n",
       "      <td>1889.919601</td>\n",
       "      <td>3536.561110</td>\n",
       "      <td>5322.062749</td>\n",
       "      <td>5259.299131</td>\n",
       "      <td>4093.989610</td>\n",
       "      <td>3481.169948</td>\n",
       "      <td>3575.431889</td>\n",
       "      <td>5368.352620</td>\n",
       "      <td>5285.282833</td>\n",
       "      <td>4113.892986</td>\n",
       "      <td>3497.831182</td>\n",
       "      <td>3121.627322</td>\n",
       "      <td>1</td>\n",
       "    </tr>\n",
       "    <tr>\n",
       "      <th>46727</th>\n",
       "      <td>60000.000000</td>\n",
       "      <td>2.000000</td>\n",
       "      <td>1.610109</td>\n",
       "      <td>1.610109</td>\n",
       "      <td>33.238255</td>\n",
       "      <td>1.389891</td>\n",
       "      <td>2.000000</td>\n",
       "      <td>2.000000</td>\n",
       "      <td>2.000000</td>\n",
       "      <td>0.779782</td>\n",
       "      <td>0.779782</td>\n",
       "      <td>48204.980016</td>\n",
       "      <td>49014.214502</td>\n",
       "      <td>49728.759393</td>\n",
       "      <td>48468.125047</td>\n",
       "      <td>49506.753193</td>\n",
       "      <td>51892.123302</td>\n",
       "      <td>1877.978193</td>\n",
       "      <td>1823.068380</td>\n",
       "      <td>779.781931</td>\n",
       "      <td>1877.978193</td>\n",
       "      <td>3266.601028</td>\n",
       "      <td>896.749221</td>\n",
       "      <td>1</td>\n",
       "    </tr>\n",
       "  </tbody>\n",
       "</table>\n",
       "<p>46728 rows × 24 columns</p>\n",
       "</div>"
      ],
      "text/plain": [
       "               Limit       Sex  Education  Marriage        Age  Pay_sept  \\\n",
       "0       20000.000000  2.000000   2.000000  1.000000  24.000000  2.000000   \n",
       "1      120000.000000  2.000000   2.000000  2.000000  26.000000 -1.000000   \n",
       "2       90000.000000  2.000000   2.000000  2.000000  34.000000  0.000000   \n",
       "3       50000.000000  2.000000   2.000000  1.000000  37.000000  0.000000   \n",
       "4       50000.000000  1.000000   2.000000  1.000000  57.000000 -1.000000   \n",
       "...              ...       ...        ...       ...        ...       ...   \n",
       "46723  462164.268649  1.216427   1.216427  1.000000  41.164269  1.567146   \n",
       "46724   35576.497730  1.442350   1.000000  2.000000  23.115300  0.884700   \n",
       "46725  262277.075863  1.000000   1.818472  1.590764  33.772292  1.181528   \n",
       "46726  278870.779545  1.112922   2.000000  1.112922  38.435390 -1.887078   \n",
       "46727   60000.000000  2.000000   1.610109  1.610109  33.238255  1.389891   \n",
       "\n",
       "        Pay_aug  Pay_july  Pay_june   Pay_may  Pay_april      Bill_sept  \\\n",
       "0      2.000000 -1.000000 -1.000000 -2.000000  -2.000000    3913.000000   \n",
       "1      2.000000  0.000000  0.000000  0.000000   2.000000    2682.000000   \n",
       "2      0.000000  0.000000  0.000000  0.000000   0.000000   29239.000000   \n",
       "3      0.000000  0.000000  0.000000  0.000000   0.000000   46990.000000   \n",
       "4      0.000000 -1.000000  0.000000  0.000000   0.000000    8617.000000   \n",
       "...         ...       ...       ...       ...        ...            ...   \n",
       "46723  1.350719  3.701439  3.701439  3.701439   3.701439    2688.269190   \n",
       "46724  0.884700  0.000000  0.000000  0.000000  -0.442350   29694.345994   \n",
       "46725  1.181528  1.181528  1.181528  1.181528   1.181528  155844.179310   \n",
       "46726 -1.887078 -1.887078 -1.887078 -1.887078  -1.887078    1889.919601   \n",
       "46727  2.000000  2.000000  2.000000  0.779782   0.779782   48204.980016   \n",
       "\n",
       "            Bill_aug      Bill_july      Bill_june       Bill_may  \\\n",
       "0        3102.000000     689.000000       0.000000       0.000000   \n",
       "1        1725.000000    2682.000000    3272.000000    3455.000000   \n",
       "2       14027.000000   13559.000000   14331.000000   14948.000000   \n",
       "3       48233.000000   49291.000000   28314.000000   28959.000000   \n",
       "4        5670.000000   35835.000000   20940.000000   19146.000000   \n",
       "...              ...            ...            ...            ...   \n",
       "46723    2249.139081    3610.680489    3401.179283    2375.315944   \n",
       "46724   28646.618035   16550.609104   12672.613622    7794.437831   \n",
       "46725  164066.687603  163884.824773  176985.751580  179204.686146   \n",
       "46726    3536.561110    5322.062749    5259.299131    4093.989610   \n",
       "46727   49014.214502   49728.759393   48468.125047   49506.753193   \n",
       "\n",
       "          Bill_april      Amt_sept       Amt_aug      Amt_july     Amt_june  \\\n",
       "0           0.000000      0.000000    689.000000      0.000000     0.000000   \n",
       "1        3261.000000      0.000000   1000.000000   1000.000000  1000.000000   \n",
       "2       15549.000000   1518.000000   1500.000000   1000.000000  1000.000000   \n",
       "3       29547.000000   2000.000000   2019.000000   1200.000000  1100.000000   \n",
       "4       19131.000000   2000.000000  36681.000000  10000.000000  9000.000000   \n",
       "...              ...           ...           ...           ...          ...   \n",
       "46723    1955.014972    294.124109   1655.665516   1446.164311   420.300972   \n",
       "46724    4339.875461    724.944705   1759.975670    620.240505   304.412443   \n",
       "46725  183003.869208  11316.877241   2864.651035  16945.592209  6132.419972   \n",
       "46726    3481.169948   3575.431889   5368.352620   5285.282833  4113.892986   \n",
       "46727   51892.123302   1877.978193   1823.068380    779.781931  1877.978193   \n",
       "\n",
       "           Amt_may    Amt_april Default_pay  \n",
       "0         0.000000     0.000000           1  \n",
       "1         0.000000  2000.000000           1  \n",
       "2      1000.000000  5000.000000           0  \n",
       "3      1069.000000  1000.000000           0  \n",
       "4       689.000000   679.000000           0  \n",
       "...            ...          ...         ...  \n",
       "46723     0.000000  1270.425697           1  \n",
       "46724   342.084239   154.468987           1  \n",
       "46725  6201.990069  6045.222621           1  \n",
       "46726  3497.831182  3121.627322           1  \n",
       "46727  3266.601028   896.749221           1  \n",
       "\n",
       "[46728 rows x 24 columns]"
      ]
     },
     "execution_count": 26,
     "metadata": {},
     "output_type": "execute_result"
    }
   ],
   "source": [
    "df2"
   ]
  },
  {
   "cell_type": "markdown",
   "id": "d30375c9",
   "metadata": {},
   "source": [
    "## Splitting the Data"
   ]
  },
  {
   "cell_type": "code",
   "execution_count": 27,
   "id": "4a7e066b",
   "metadata": {},
   "outputs": [],
   "source": [
    "x=df2.drop('Default_pay',axis=1)\n",
    "y=df2['Default_pay']"
   ]
  },
  {
   "cell_type": "code",
   "execution_count": 28,
   "id": "ffd123b9",
   "metadata": {},
   "outputs": [],
   "source": [
    "logger.info('Splitting data...')\n",
    "from sklearn.model_selection import train_test_split\n",
    "xtrain,xtest,ytrain,ytest=train_test_split(x,y,test_size=0.3,random_state=42\n",
    "                                          ,stratify=y)\n",
    "xtrain.to_csv('traindata.csv')\n",
    "xtest.to_csv('testdata.csv')"
   ]
  },
  {
   "cell_type": "markdown",
   "id": "a1f11709",
   "metadata": {},
   "source": [
    "## Scaling the Data"
   ]
  },
  {
   "cell_type": "code",
   "execution_count": 29,
   "id": "d0ff1faa",
   "metadata": {},
   "outputs": [],
   "source": [
    "logger.info('Scaling data...')\n",
    "from sklearn.preprocessing import StandardScaler\n",
    "scaler=StandardScaler()\n",
    "xtrain1=scaler.fit_transform(xtrain)\n",
    "xtest1=scaler.transform(xtest)"
   ]
  },
  {
   "cell_type": "markdown",
   "id": "f7cb1de9",
   "metadata": {},
   "source": [
    "## Logistic Regression"
   ]
  },
  {
   "cell_type": "code",
   "execution_count": 30,
   "id": "ddc64929",
   "metadata": {},
   "outputs": [],
   "source": [
    "from sklearn.linear_model import LogisticRegression\n",
    "logger.info('Starting training of logistic regression')\n",
    "lr=LogisticRegression()\n",
    "model_lr=lr.fit(xtrain1,ytrain)\n",
    "y_pred_lr=model_lr.predict(xtest1)"
   ]
  },
  {
   "cell_type": "code",
   "execution_count": 31,
   "id": "9cd21371",
   "metadata": {},
   "outputs": [
    {
     "name": "stdout",
     "output_type": "stream",
     "text": [
      "Logistic Regression model accuracy(in %): 69.241743348313\n"
     ]
    },
    {
     "data": {
      "image/png": "[encoded data removed]",
      "text/plain": [
       "<Figure size 640x480 with 2 Axes>"
      ]
     },
     "metadata": {},
     "output_type": "display_data"
    }
   ],
   "source": [
    "from sklearn.metrics import accuracy_score\n",
    "accuracyreg=accuracy_score(ytest, y_pred_lr)*100\n",
    "print(\"Logistic Regression model accuracy(in %):\"\n",
    "      ,accuracyreg)\n",
    "from sklearn.metrics import confusion_matrix,ConfusionMatrixDisplay\n",
    "treecon=confusion_matrix(ytest,y_pred_lr)\n",
    "treedisp=ConfusionMatrixDisplay(treecon)\n",
    "treedisp.plot()\n",
    "tn, fp, fn, tp = treecon.ravel()\n",
    " \n",
    "# Calculate precision, recall, and F1 score\n",
    "precision = tp / (tp + fp)\n",
    "recall = tp / (tp + fn)\n",
    "f1_score = 2 * (precision * recall) / (precision + recall)\n",
    "    \n",
    "logger.info(f'Finished training: precision {precision:.4f}, recall {recall:.4f}, f1 score {f1_score:.4f}, accuracy {accuracyreg:.4f}')"
   ]
  },
  {
   "cell_type": "markdown",
   "id": "6d058e43",
   "metadata": {},
   "source": [
    "## Random Forest Classifier"
   ]
  },
  {
   "cell_type": "code",
   "execution_count": 32,
   "id": "e332ad71",
   "metadata": {},
   "outputs": [],
   "source": [
    "from sklearn.ensemble import RandomForestClassifier\n",
    "rnd=RandomForestClassifier(criterion= 'entropy', max_depth= 9, max_features= 6, n_estimators= 200)\n",
    "logger.info('Starting training of random forest classifier')\n",
    "model_rf=rnd.fit(xtrain1,ytrain)\n",
    "rndpred=model_rf.predict(xtest1)"
   ]
  },
  {
   "cell_type": "code",
   "execution_count": 33,
   "id": "dbc454e4",
   "metadata": {},
   "outputs": [
    {
     "name": "stdout",
     "output_type": "stream",
     "text": [
      "Random Forest model Test accuracy(in %): 86.40416577501962\n",
      "Random Forest model Train accuracy(in%): 87.64560212785472\n"
     ]
    }
   ],
   "source": [
    "trainrndpred=rnd.predict(xtrain1)\n",
    "print(\"Random Forest model Test accuracy(in %):\"\n",
    "      ,accuracy_score(ytest, rndpred)*100)\n",
    "print(\"Random Forest model Train accuracy(in%):\",accuracy_score(ytrain,trainrndpred)*100)"
   ]
  },
  {
   "cell_type": "code",
   "execution_count": 34,
   "id": "cbecd767",
   "metadata": {},
   "outputs": [],
   "source": [
    "y_pred=model_rf.predict(xtest)"
   ]
  },
  {
   "cell_type": "code",
   "execution_count": 35,
   "id": "eb5ef2d5",
   "metadata": {},
   "outputs": [
    {
     "data": {
      "image/png": "[encoded data removed]",
      "text/plain": [
       "<Figure size 640x480 with 2 Axes>"
      ]
     },
     "metadata": {},
     "output_type": "display_data"
    }
   ],
   "source": [
    "treecon=confusion_matrix(ytest,rndpred)\n",
    "treedisp=ConfusionMatrixDisplay(treecon)\n",
    "treedisp.plot()\n",
    "accuracyrnd=accuracy_score(ytest, rndpred)*100\n",
    "tn, fp, fn, tp = treecon.ravel()\n",
    " \n",
    "# Calculate precision, recall, and F1 score\n",
    "precision = tp / (tp + fp)\n",
    "recall = tp / (tp + fn)\n",
    "f1_score = 2 * (precision * recall) / (precision + recall)\n",
    "    \n",
    "logger.info(f'Finished training: precision {precision:.4f}, recall {recall:.4f}, f1 score {f1_score:.4f}, accuracy {accuracyrnd:.4f}')"
   ]
  },
  {
   "cell_type": "markdown",
   "id": "fbfc2c4a",
   "metadata": {},
   "source": [
    "## Finding Best Parameter for Random Forest"
   ]
  },
  {
   "cell_type": "code",
   "execution_count": 36,
   "id": "9f630bac",
   "metadata": {},
   "outputs": [],
   "source": [
    "#from sklearn.metrics import classification_report\n",
    "#from time import time\n",
    "#time_start=time()\n",
    "#from sklearn.model_selection import GridSearchCV\n",
    "#rfc_model = RandomForestClassifier(random_state = 7, class_weight='balanced', n_jobs=-1)\n",
    "#params={\"n_estimators\":[150,200],\n",
    "#        \"max_features\": [6,7],\n",
    "#        'max_depth': [8,9],\n",
    "#       \"criterion\":['entropy']}\n",
    "#rfc_classifier = GridSearchCV(estimator = rfc_model, param_grid = params, scoring = \"recall_weighted\")\n",
    "#rfc_classifier.fit(xtrain,ytrain)\n",
    "#rfc_predict = rfc_classifier.predict(xtest)\n",
    "#print(rfc_classifier.best_params_)\n",
    "#print(classification_report(ytest, rfc_predict))\n",
    "#time_end=time()\n",
    "#print(\"Runtime  = \",time_end-time_start)"
   ]
  },
  {
   "cell_type": "markdown",
   "id": "5f579ce3",
   "metadata": {},
   "source": [
    "## SVM"
   ]
  },
  {
   "cell_type": "code",
   "execution_count": 37,
   "id": "bc6648d6",
   "metadata": {},
   "outputs": [],
   "source": [
    "from sklearn.svm import SVC"
   ]
  },
  {
   "cell_type": "code",
   "execution_count": 38,
   "id": "eca0f5a5",
   "metadata": {},
   "outputs": [],
   "source": [
    "svc=SVC()\n",
    "logger.info('Starting training of SVM')\n",
    "svc.fit(xtrain1,ytrain)\n",
    "svcpred=svc.predict(xtest1)"
   ]
  },
  {
   "cell_type": "code",
   "execution_count": 39,
   "id": "4ca580a1",
   "metadata": {},
   "outputs": [
    {
     "name": "stdout",
     "output_type": "stream",
     "text": [
      "SVM(in %): 79.3993865468293\n"
     ]
    }
   ],
   "source": [
    "print(\"SVM(in %):\" ,accuracy_score(ytest, svcpred)*100)"
   ]
  },
  {
   "cell_type": "code",
   "execution_count": 40,
   "id": "20ad869e",
   "metadata": {},
   "outputs": [
    {
     "data": {
      "image/png": "[encoded data removed]",
      "text/plain": [
       "<Figure size 640x480 with 2 Axes>"
      ]
     },
     "metadata": {},
     "output_type": "display_data"
    }
   ],
   "source": [
    "treecon=confusion_matrix(ytest,svcpred)\n",
    "treedisp=ConfusionMatrixDisplay(treecon)\n",
    "treedisp.plot()\n",
    "accuracysvc=accuracy_score(ytest, svcpred)*100\n",
    "tn, fp, fn, tp = treecon.ravel()\n",
    " \n",
    "# Calculate precision, recall, and F1 score\n",
    "precision = tp / (tp + fp)\n",
    "recall = tp / (tp + fn)\n",
    "f1_score = 2 * (precision * recall) / (precision + recall)\n",
    "    \n",
    "logger.info(f'Finished training: precision {precision:.4f}, recall {recall:.4f}, f1 score {f1_score:.4f}, accuracy {accuracysvc:.4f}')"
   ]
  },
  {
   "cell_type": "markdown",
   "id": "672180f3",
   "metadata": {},
   "source": [
    "## Saving the Best Model as PKL File"
   ]
  },
  {
   "cell_type": "code",
   "execution_count": 41,
   "id": "4c379b6d",
   "metadata": {},
   "outputs": [],
   "source": [
    "logger.info('Saving best model')\n",
    "file=open('randomforestclassifiermodel.pkl','wb')\n",
    "pickle.dump(model_rf,file)"
   ]
  }
 ],
 "metadata": {
  "kernelspec": {
   "display_name": "Python 3 (ipykernel)",
   "language": "python",
   "name": "python3"
  },
  "language_info": {
   "codemirror_mode": {
    "name": "ipython",
    "version": 3
   },
   "file_extension": ".py",
   "mimetype": "text/x-python",
   "name": "python",
   "nbconvert_exporter": "python",
   "pygments_lexer": "ipython3",
   "version": "3.7.15"
  }
 },
 "nbformat": 4,
 "nbformat_minor": 5
}
